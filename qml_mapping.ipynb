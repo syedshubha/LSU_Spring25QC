{
  "nbformat": 4,
  "nbformat_minor": 0,
  "metadata": {
    "colab": {
      "provenance": [],
      "include_colab_link": true
    },
    "kernelspec": {
      "name": "python3",
      "display_name": "Python 3"
    },
    "language_info": {
      "name": "python"
    }
  },
  "cells": [
    {
      "cell_type": "markdown",
      "metadata": {
        "id": "view-in-github",
        "colab_type": "text"
      },
      "source": [
        "<a href=\"https://colab.research.google.com/github/syedshubha/MyJourneyQML/blob/main/qml_mapping.ipynb\" target=\"_parent\"><img src=\"https://colab.research.google.com/assets/colab-badge.svg\" alt=\"Open In Colab\"/></a>"
      ]
    },
    {
      "cell_type": "code",
      "source": [
        "%pip install pennylane\n",
        "%pip install qiskit\n",
        "%pip install pylatexenc"
      ],
      "metadata": {
        "colab": {
          "base_uri": "https://localhost:8080/"
        },
        "id": "9MYRyQf8DWTn",
        "outputId": "03935c3c-44b2-44a8-a8c4-0debfa257f06"
      },
      "execution_count": null,
      "outputs": [
        {
          "output_type": "stream",
          "name": "stdout",
          "text": [
            "Requirement already satisfied: pennylane in /usr/local/lib/python3.10/dist-packages (0.39.0)\n",
            "Requirement already satisfied: numpy<2.1 in /usr/local/lib/python3.10/dist-packages (from pennylane) (1.26.4)\n",
            "Requirement already satisfied: scipy in /usr/local/lib/python3.10/dist-packages (from pennylane) (1.13.1)\n",
            "Requirement already satisfied: networkx in /usr/local/lib/python3.10/dist-packages (from pennylane) (3.4.2)\n",
            "Requirement already satisfied: rustworkx>=0.14.0 in /usr/local/lib/python3.10/dist-packages (from pennylane) (0.15.1)\n",
            "Requirement already satisfied: autograd in /usr/local/lib/python3.10/dist-packages (from pennylane) (1.7.0)\n",
            "Requirement already satisfied: toml in /usr/local/lib/python3.10/dist-packages (from pennylane) (0.10.2)\n",
            "Requirement already satisfied: appdirs in /usr/local/lib/python3.10/dist-packages (from pennylane) (1.4.4)\n",
            "Requirement already satisfied: autoray>=0.6.11 in /usr/local/lib/python3.10/dist-packages (from pennylane) (0.7.0)\n",
            "Requirement already satisfied: cachetools in /usr/local/lib/python3.10/dist-packages (from pennylane) (5.5.0)\n",
            "Requirement already satisfied: pennylane-lightning>=0.39 in /usr/local/lib/python3.10/dist-packages (from pennylane) (0.39.0)\n",
            "Requirement already satisfied: requests in /usr/local/lib/python3.10/dist-packages (from pennylane) (2.32.3)\n",
            "Requirement already satisfied: typing-extensions in /usr/local/lib/python3.10/dist-packages (from pennylane) (4.12.2)\n",
            "Requirement already satisfied: packaging in /usr/local/lib/python3.10/dist-packages (from pennylane) (24.2)\n",
            "Requirement already satisfied: charset-normalizer<4,>=2 in /usr/local/lib/python3.10/dist-packages (from requests->pennylane) (3.4.1)\n",
            "Requirement already satisfied: idna<4,>=2.5 in /usr/local/lib/python3.10/dist-packages (from requests->pennylane) (3.10)\n",
            "Requirement already satisfied: urllib3<3,>=1.21.1 in /usr/local/lib/python3.10/dist-packages (from requests->pennylane) (2.3.0)\n",
            "Requirement already satisfied: certifi>=2017.4.17 in /usr/local/lib/python3.10/dist-packages (from requests->pennylane) (2024.12.14)\n",
            "Requirement already satisfied: qiskit in /usr/local/lib/python3.10/dist-packages (1.3.1)\n",
            "Requirement already satisfied: rustworkx>=0.15.0 in /usr/local/lib/python3.10/dist-packages (from qiskit) (0.15.1)\n",
            "Requirement already satisfied: numpy<3,>=1.17 in /usr/local/lib/python3.10/dist-packages (from qiskit) (1.26.4)\n",
            "Requirement already satisfied: scipy>=1.5 in /usr/local/lib/python3.10/dist-packages (from qiskit) (1.13.1)\n",
            "Requirement already satisfied: sympy>=1.3 in /usr/local/lib/python3.10/dist-packages (from qiskit) (1.13.1)\n",
            "Requirement already satisfied: dill>=0.3 in /usr/local/lib/python3.10/dist-packages (from qiskit) (0.3.9)\n",
            "Requirement already satisfied: python-dateutil>=2.8.0 in /usr/local/lib/python3.10/dist-packages (from qiskit) (2.8.2)\n",
            "Requirement already satisfied: stevedore>=3.0.0 in /usr/local/lib/python3.10/dist-packages (from qiskit) (5.4.0)\n",
            "Requirement already satisfied: typing-extensions in /usr/local/lib/python3.10/dist-packages (from qiskit) (4.12.2)\n",
            "Requirement already satisfied: symengine<0.14,>=0.11 in /usr/local/lib/python3.10/dist-packages (from qiskit) (0.13.0)\n",
            "Requirement already satisfied: six>=1.5 in /usr/local/lib/python3.10/dist-packages (from python-dateutil>=2.8.0->qiskit) (1.17.0)\n",
            "Requirement already satisfied: pbr>=2.0.0 in /usr/local/lib/python3.10/dist-packages (from stevedore>=3.0.0->qiskit) (6.1.0)\n",
            "Requirement already satisfied: mpmath<1.4,>=1.1.0 in /usr/local/lib/python3.10/dist-packages (from sympy>=1.3->qiskit) (1.3.0)\n",
            "Collecting pylatexenc\n",
            "  Downloading pylatexenc-2.10.tar.gz (162 kB)\n",
            "\u001b[2K     \u001b[90m━━━━━━━━━━━━━━━━━━━━━━━━━━━━━━━━━━━━━━━━\u001b[0m \u001b[32m162.6/162.6 kB\u001b[0m \u001b[31m3.5 MB/s\u001b[0m eta \u001b[36m0:00:00\u001b[0m\n",
            "\u001b[?25h  Preparing metadata (setup.py) ... \u001b[?25l\u001b[?25hdone\n",
            "Building wheels for collected packages: pylatexenc\n",
            "  Building wheel for pylatexenc (setup.py) ... \u001b[?25l\u001b[?25hdone\n",
            "  Created wheel for pylatexenc: filename=pylatexenc-2.10-py3-none-any.whl size=136816 sha256=780c4c15bce6d5cb5cae7a10b432cc73b77aba5f078c0f2d59824e6498cc7650\n",
            "  Stored in directory: /root/.cache/pip/wheels/d3/31/8b/e09b0386afd80cfc556c00408c9aeea5c35c4d484a9c762fd5\n",
            "Successfully built pylatexenc\n",
            "Installing collected packages: pylatexenc\n",
            "Successfully installed pylatexenc-2.10\n"
          ]
        }
      ]
    },
    {
      "cell_type": "code",
      "execution_count": null,
      "metadata": {
        "id": "wpBaw6b59EQp"
      },
      "outputs": [],
      "source": [
        "import pennylane as qml\n",
        "import numpy as np\n",
        "from scipy.optimize import minimize"
      ]
    },
    {
      "cell_type": "code",
      "source": [
        "# Define the quantum device (simulated with 3 qubits)\n",
        "dev = qml.device('default.qubit', wires=3)\n",
        "\n",
        "# Define a simple connectivity model for a device\n",
        "# For a 3-qubit device with linear connectivity, we assume:\n",
        "# Qubit 0 is connected to qubits 1, Qubit 1 is connected to qubits 0 and 2, Qubit 2 is connected to qubit 1.\n",
        "\n",
        "# Define the quantum circuit (QNN) with more layers of gates\n",
        "@qml.qnode(dev)\n",
        "def circuit(weights, x):\n",
        "    # Apply the input data as rotation on the qubits\n",
        "    qml.RX(x[0], wires=0)\n",
        "    qml.RX(x[1], wires=1)\n",
        "    qml.RX(x[2], wires=2)\n",
        "\n",
        "    # Apply more parameterized rotations\n",
        "    qml.RZ(weights[0], wires=0)\n",
        "    qml.RX(weights[1], wires=1)\n",
        "    qml.RZ(weights[2], wires=2)\n",
        "\n",
        "    # Apply entangling operations (CNOT gates)\n",
        "    qml.CNOT(wires=[0, 1])  # Entangling qubits 0 and 1\n",
        "    qml.CNOT(wires=[1, 2])  # Entangling qubits 1 and 2\n",
        "    qml.CNOT(wires=[0, 2])  # Adding another entangling gate between 0 and 2\n",
        "\n",
        "    # Add additional layers of rotations\n",
        "    qml.RY(weights[3], wires=0)\n",
        "    qml.RY(weights[4], wires=1)\n",
        "    qml.RY(weights[5], wires=2)\n",
        "\n",
        "    # Measurement (Pauli-Z)\n",
        "    return qml.expval(qml.PauliZ(2))\n",
        "\n"
      ],
      "metadata": {
        "id": "V3-_11ed9Mvi"
      },
      "execution_count": null,
      "outputs": []
    },
    {
      "cell_type": "code",
      "source": [
        "from qiskit import QuantumCircuit\n",
        "import matplotlib.pyplot as plt\n",
        "from pylatexenc import *\n",
        "%matplotlib inline\n",
        "\n",
        "# Create a Quantum Circuit with 3 qubits\n",
        "qc = QuantumCircuit(3)\n",
        "\n",
        "# Apply gates to the qubits\n",
        "qc.rx(0.5, 0)  # RX gate on qubit 0\n",
        "qc.rx(0.5, 1)  # RX gate on qubit 1\n",
        "qc.rx(0.5, 2)  # RX gate on qubit 2\n",
        "qc.rz(1.0, 0)  # RZ gate on qubit 0\n",
        "qc.rz(1.0, 1)  # RZ gate on qubit 1\n",
        "qc.rz(1.0, 2)  # RZ gate on qubit 2\n",
        "qc.cx(0, 1)  # CNOT between qubit 0 and qubit 1\n",
        "qc.cx(1, 2)  # CNOT between qubit 1 and qubit 2\n",
        "qc.cx(0, 2)  # CNOT between qubit 0 and qubit 2\n",
        "\n",
        "# Visualize the circuit\n",
        "qc.draw('mpl')  # Draw circuit using matplotlib (this shows a grid-like diagram)\n",
        "\n",
        "\n"
      ],
      "metadata": {
        "colab": {
          "base_uri": "https://localhost:8080/",
          "height": 255
        },
        "id": "XeGra0EVSVDF",
        "outputId": "d20bda7b-fdca-4b10-d774-0b378991848b"
      },
      "execution_count": null,
      "outputs": [
        {
          "output_type": "execute_result",
          "data": {
            "text/plain": [
              "<Figure size 538.33x284.278 with 1 Axes>"
            ],
            "image/png": "[encoded data removed]"
          },
          "metadata": {},
          "execution_count": 4
        }
      ]
    },
    {
      "cell_type": "code",
      "source": [
        "# Training data (3 features, 1 label)\n",
        "X_train = np.array([[0.1, 0.2, 0.3], [0.4, 0.5, 0.6], [0.7, 0.8, 0.9]])\n",
        "y_train = np.array([1, 0, 1])  # Labels\n",
        "\n",
        "# Cost function for binary classification\n",
        "def cost(weights, X, y):\n",
        "    predictions = [circuit(weights, x) for x in X]\n",
        "    return np.mean((np.array(predictions) - y) ** 2)\n"
      ],
      "metadata": {
        "id": "MM6JVOiA9QqL"
      },
      "execution_count": null,
      "outputs": []
    },
    {
      "cell_type": "code",
      "source": [
        "# Function to calculate swap penalty based on the mapping\n",
        "def swap_penalty(mapping):\n",
        "    # Define a simple connectivity model (linear chain)\n",
        "    # Penalty increases with distance between qubits\n",
        "    penalty = 0\n",
        "    connectivity = {\n",
        "        0: [1],  # Qubit 0 is connected to 1\n",
        "        1: [0, 2],  # Qubit 1 is connected to 0 and 2\n",
        "        2: [1]  # Qubit 2 is connected to 1\n",
        "    }\n",
        "\n",
        "    # Calculate the number of swaps (non-local interactions)\n",
        "    for i in range(3):\n",
        "        for j in range(i + 1, 3):\n",
        "            if j not in connectivity[mapping[i]]:\n",
        "                penalty += 1  # Add penalty for non-local interaction\n",
        "\n",
        "    return penalty\n",
        "\n",
        "# Possible mappings of logical qubits to physical qubits\n",
        "mappings = [\n",
        "    [0, 1, 2],  # Mapping 1: Logical qubit 0 -> Physical qubit 0, etc.\n",
        "    [1, 2, 0],  # Mapping 2: Logical qubit 0 -> Physical qubit 1, etc.\n",
        "    [2, 0, 1],  # Mapping 3: Logical qubit 0 -> Physical qubit 2, etc.\n",
        "]\n",
        "\n",
        "# Initialize weights randomly\n",
        "initial_weights = np.random.randn(6)  # 6 weights now due to more gates\n",
        "\n",
        "# Function to compute cost for a given mapping\n",
        "def evaluate_mapping(mapping):\n",
        "    # Re-map the qubits in the circuit according to the mapping\n",
        "    @qml.qnode(dev)\n",
        "    def mapped_circuit(weights, x):\n",
        "        # Apply the input data as rotation on the mapped qubits\n",
        "        qml.RX(x[mapping[0]], wires=0)\n",
        "        qml.RX(x[mapping[1]], wires=1)\n",
        "        qml.RX(x[mapping[2]], wires=2)\n",
        "\n",
        "        # Apply more parameterized rotations\n",
        "        qml.RZ(weights[0], wires=0)\n",
        "        qml.RX(weights[1], wires=1)\n",
        "        qml.RZ(weights[2], wires=2)\n",
        "\n",
        "        # Apply entangling operations (CNOT gates)\n",
        "        qml.CNOT(wires=[0, 1])  # Entangling qubits 0 and 1\n",
        "        qml.CNOT(wires=[1, 2])  # Entangling qubits 1 and 2\n",
        "        qml.CNOT(wires=[0, 2])  # Adding another entangling gate between 0 and 2\n",
        "\n",
        "        # Add additional layers of rotations\n",
        "        qml.RY(weights[3], wires=0)\n",
        "        qml.RY(weights[4], wires=1)\n",
        "        qml.RY(weights[5], wires=2)\n",
        "\n",
        "        # Measurement (Pauli-Z)\n",
        "        return qml.expval(qml.PauliZ(2))\n",
        "\n",
        "    # Minimize the cost function for this mapping\n",
        "    result = minimize(lambda w: cost(w, X_train, y_train), initial_weights, method='BFGS')\n",
        "\n",
        "    # Add the penalty for swap gates based on the mapping\n",
        "    penalty = swap_penalty(mapping)\n",
        "    return result.fun + penalty  # Include penalty in the total cost\n"
      ],
      "metadata": {
        "id": "yrOh24s6DFiA"
      },
      "execution_count": null,
      "outputs": []
    },
    {
      "cell_type": "code",
      "source": [
        "# Evaluate all mappings\n",
        "mapping_costs = {}\n",
        "for i, mapping in enumerate(mappings):\n",
        "    cost_value = evaluate_mapping(mapping)\n",
        "    mapping_costs[f'Mapping {i+1}'] = cost_value\n",
        "\n",
        "# Show the results\n",
        "print(\"Cost for each mapping (including swap penalty):\")\n",
        "for mapping, cost_value in mapping_costs.items():\n",
        "    print(f\"{mapping}: {cost_value:.4f}\")\n"
      ],
      "metadata": {
        "colab": {
          "base_uri": "https://localhost:8080/"
        },
        "id": "GI2yt0ckGLtb",
        "outputId": "9527efa0-ed96-44be-c4f7-d8341621fa02"
      },
      "execution_count": null,
      "outputs": [
        {
          "output_type": "stream",
          "name": "stdout",
          "text": [
            "Cost for each mapping (including swap penalty):\n",
            "Mapping 1: 1.2266\n",
            "Mapping 2: 2.2266\n",
            "Mapping 3: 2.2266\n"
          ]
        }
      ]
    },
    {
      "cell_type": "code",
      "source": [],
      "metadata": {
        "id": "9F8nY1xjR2yA"
      },
      "execution_count": null,
      "outputs": []
    }
  ]
}